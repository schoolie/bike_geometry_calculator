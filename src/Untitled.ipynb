{
 "cells": [
  {
   "cell_type": "code",
   "execution_count": 12,
   "metadata": {
    "collapsed": false
   },
   "outputs": [
    {
     "name": "stdout",
     "output_type": "stream",
     "text": [
      "[{wheel_diameter: 2*wheel_radius, crank_arm_length: -bb_drop - pedal_clearance + wheel_radius, bb_height: -bb_drop + wheel_radius}]\n",
      "[{bb_drop: -bb_height + wheel_diameter/2, pedal_clearance: bb_height - crank_arm_length, wheel_radius: wheel_diameter/2}]\n"
     ]
    }
   ],
   "source": [
    "from system_soln_funcs import solution_handler, write_soln_func\n",
    "import sympy as sp    \n",
    "import pprint\n",
    "pp = pprint.PrettyPrinter()\n",
    "\n",
    "var_names = [\n",
    "             'wheel_diameter',\n",
    "             'wheel_radius',\n",
    "             'crank_arm_length',\n",
    "             'bb_height',\n",
    "             'pedal_clearance',\n",
    "             'bb_drop'\n",
    "            ]\n",
    "            \n",
    "constants = [\n",
    "            ]\n",
    "\n",
    "for v in var_names + constants:\n",
    "    sp.var(v)   \n",
    "\n",
    "input_names = var_names\n",
    "            \n",
    "equations = [\n",
    "             sp.Eq(wheel_diameter, wheel_radius * 2),\n",
    "             sp.Eq(bb_height, wheel_radius - bb_drop),\n",
    "             sp.Eq(pedal_clearance, bb_height - crank_arm_length),\n",
    "            ]\n",
    "            \n",
    "            \n",
    "soln = sp.solve(equations, ['wheel_diameter', 'bb_height', 'crank_arm_length'], dict=True)\n",
    "print soln  \n",
    "\n",
    "soln = sp.solve(equations, ['bb_drop', 'pedal_clearance', 'wheel_radius'], dict=True)\n",
    "print soln"
   ]
  }
 ],
 "metadata": {
  "kernelspec": {
   "display_name": "Python 2",
   "language": "python",
   "name": "python2"
  },
  "language_info": {
   "codemirror_mode": {
    "name": "ipython",
    "version": 2
   },
   "file_extension": ".py",
   "mimetype": "text/x-python",
   "name": "python",
   "nbconvert_exporter": "python",
   "pygments_lexer": "ipython2",
   "version": "2.7.11"
  }
 },
 "nbformat": 4,
 "nbformat_minor": 0
}
